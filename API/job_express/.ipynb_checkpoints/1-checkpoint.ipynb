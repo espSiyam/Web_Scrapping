{
 "cells": [
  {
   "cell_type": "code",
   "execution_count": 1,
   "id": "5dbdaffb-0296-453a-8ea2-ee39039c5704",
   "metadata": {},
   "outputs": [],
   "source": [
    "import requests\n",
    "import pandas as pd\n",
    "from tqdm import tqdm"
   ]
  },
  {
   "cell_type": "code",
   "execution_count": 2,
   "id": "a63dbd19-6d2e-47e6-99d3-87abd2f1ba6e",
   "metadata": {},
   "outputs": [],
   "source": [
    "url = \"https://api.jobxprss.com/api/job/search/v6/?page=1&q=&job_city=&category=&top-skill=&industry=&skill=&salaryMin=0&salaryMax=1000000&experienceMin=0&experienceMax=50&datePosted=&qualification=&job_type=&unspecified_salary=1&sort=descending&page_size=50\"\n",
    "\n",
    "urls = []\n",
    "for i in range(1,153):\n",
    "    urls.append(\"https://api.jobxprss.com/api/job/search/v6/?page={}&q=&job_city=&category=&top-skill=&industry=&skill=&salaryMin=0&salaryMax=1000000&experienceMin=0&experienceMax=50&datePosted=&qualification=&job_type=&unspecified_salary=1&sort=descending&page_size=50\".format(i))"
   ]
  },
  {
   "cell_type": "code",
   "execution_count": 4,
   "id": "c465c555-df65-4c2c-95a6-6fdd919b3f0c",
   "metadata": {},
   "outputs": [
    {
     "name": "stderr",
     "output_type": "stream",
     "text": [
      "100%|████████████████████████████████████████████████████████████████████████████████████| 3/3 [00:09<00:00,  3.30s/it]\n"
     ]
    }
   ],
   "source": [
    "result = []\n",
    "\n",
    "for i in tqdm(range(len(urls))):\n",
    "    response = requests.get(urls[i])\n",
    "    data = response.json()\n",
    "    for j in range(len(data['results'])):\n",
    "        result.append({\n",
    "            'title': data[\"results\"][j]['title'],\n",
    "            'company': data[\"results\"][j]['company']['name'],\n",
    "            'job_category': data[\"results\"][j]['job_category'],\n",
    "            'job_category': data[\"results\"][j]['job_category'],\n",
    "            'job_area': data[\"results\"][j]['job_area'],\n",
    "            'salary_min': data[\"results\"][j]['salary_min']\n",
    "            'salary_max': data[\"results\"][j]['salary_max']\n",
    "        })"
   ]
  },
  {
   "cell_type": "code",
   "execution_count": 5,
   "id": "0f3535dc-9382-4c78-ac14-a2961548a9b5",
   "metadata": {},
   "outputs": [],
   "source": [
    "df = pd.DataFrame(result)"
   ]
  },
  {
   "cell_type": "code",
   "execution_count": 6,
   "id": "cf37e366-2c64-4f86-8758-a1ad919a81c6",
   "metadata": {},
   "outputs": [
    {
     "data": {
      "text/html": [
       "<div>\n",
       "<style scoped>\n",
       "    .dataframe tbody tr th:only-of-type {\n",
       "        vertical-align: middle;\n",
       "    }\n",
       "\n",
       "    .dataframe tbody tr th {\n",
       "        vertical-align: top;\n",
       "    }\n",
       "\n",
       "    .dataframe thead th {\n",
       "        text-align: right;\n",
       "    }\n",
       "</style>\n",
       "<table border=\"1\" class=\"dataframe\">\n",
       "  <thead>\n",
       "    <tr style=\"text-align: right;\">\n",
       "      <th></th>\n",
       "      <th>title</th>\n",
       "      <th>company</th>\n",
       "      <th>job_category</th>\n",
       "      <th>job_area</th>\n",
       "      <th>salary_max</th>\n",
       "    </tr>\n",
       "  </thead>\n",
       "  <tbody>\n",
       "    <tr>\n",
       "      <th>0</th>\n",
       "      <td>Officer (Quality Control)</td>\n",
       "      <td>Nabil Feed Mills Ltd.</td>\n",
       "      <td>Compliance</td>\n",
       "      <td>Anywhere in Bangladesh</td>\n",
       "      <td>None</td>\n",
       "    </tr>\n",
       "    <tr>\n",
       "      <th>1</th>\n",
       "      <td>Pharmacist/ Pharmacy Salesman</td>\n",
       "      <td>Exim Bank Hospital</td>\n",
       "      <td>Marketing/Sales</td>\n",
       "      <td>Dhaka</td>\n",
       "      <td>None</td>\n",
       "    </tr>\n",
       "    <tr>\n",
       "      <th>2</th>\n",
       "      <td>Ward Boy</td>\n",
       "      <td>Exim Bank Hospital</td>\n",
       "      <td>Medical/Healthcare Professional</td>\n",
       "      <td>Dhaka</td>\n",
       "      <td>None</td>\n",
       "    </tr>\n",
       "    <tr>\n",
       "      <th>3</th>\n",
       "      <td>OT Boy</td>\n",
       "      <td>Exim Bank Hospital</td>\n",
       "      <td>Medical/Healthcare Professional</td>\n",
       "      <td>Dhaka</td>\n",
       "      <td>None</td>\n",
       "    </tr>\n",
       "    <tr>\n",
       "      <th>4</th>\n",
       "      <td>Principal (Electrical, Civil)</td>\n",
       "      <td>Islami Bank Institutes of Technology (Savar)</td>\n",
       "      <td>Top Management</td>\n",
       "      <td>Savar, Dhaka</td>\n",
       "      <td>None</td>\n",
       "    </tr>\n",
       "    <tr>\n",
       "      <th>...</th>\n",
       "      <td>...</td>\n",
       "      <td>...</td>\n",
       "      <td>...</td>\n",
       "      <td>...</td>\n",
       "      <td>...</td>\n",
       "    </tr>\n",
       "    <tr>\n",
       "      <th>145</th>\n",
       "      <td>MLSS</td>\n",
       "      <td>Bangladesh Supreme Court Bar Association</td>\n",
       "      <td>Others</td>\n",
       "      <td>None</td>\n",
       "      <td>20010.00</td>\n",
       "    </tr>\n",
       "    <tr>\n",
       "      <th>146</th>\n",
       "      <td>Stenographer</td>\n",
       "      <td>Bangladesh Supreme Court Bar Association</td>\n",
       "      <td>IT/Software</td>\n",
       "      <td>Dhaka</td>\n",
       "      <td>26590.00</td>\n",
       "    </tr>\n",
       "    <tr>\n",
       "      <th>147</th>\n",
       "      <td>Steno Typist cum Computer Operator</td>\n",
       "      <td>Bangladesh Supreme Court Bar Association</td>\n",
       "      <td>Data Entry/Operator/BPO</td>\n",
       "      <td>None</td>\n",
       "      <td>24680.00</td>\n",
       "    </tr>\n",
       "    <tr>\n",
       "      <th>148</th>\n",
       "      <td>Deputy Manager / Manager, Customer Lifecycle M...</td>\n",
       "      <td>Sheba.xyz</td>\n",
       "      <td>Admin/General Management</td>\n",
       "      <td>None</td>\n",
       "      <td>None</td>\n",
       "    </tr>\n",
       "    <tr>\n",
       "      <th>149</th>\n",
       "      <td>Communication and Advocacy Manager</td>\n",
       "      <td>CARE Bangladesh</td>\n",
       "      <td>Media/Advertisement/Event Management</td>\n",
       "      <td>None</td>\n",
       "      <td>None</td>\n",
       "    </tr>\n",
       "  </tbody>\n",
       "</table>\n",
       "<p>150 rows × 5 columns</p>\n",
       "</div>"
      ],
      "text/plain": [
       "                                                 title  \\\n",
       "0                            Officer (Quality Control)   \n",
       "1                        Pharmacist/ Pharmacy Salesman   \n",
       "2                                             Ward Boy   \n",
       "3                                               OT Boy   \n",
       "4                        Principal (Electrical, Civil)   \n",
       "..                                                 ...   \n",
       "145                                               MLSS   \n",
       "146                                       Stenographer   \n",
       "147                 Steno Typist cum Computer Operator   \n",
       "148  Deputy Manager / Manager, Customer Lifecycle M...   \n",
       "149                 Communication and Advocacy Manager   \n",
       "\n",
       "                                          company  \\\n",
       "0                           Nabil Feed Mills Ltd.   \n",
       "1                              Exim Bank Hospital   \n",
       "2                              Exim Bank Hospital   \n",
       "3                              Exim Bank Hospital   \n",
       "4    Islami Bank Institutes of Technology (Savar)   \n",
       "..                                            ...   \n",
       "145      Bangladesh Supreme Court Bar Association   \n",
       "146      Bangladesh Supreme Court Bar Association   \n",
       "147      Bangladesh Supreme Court Bar Association   \n",
       "148                                     Sheba.xyz   \n",
       "149                               CARE Bangladesh   \n",
       "\n",
       "                             job_category                job_area salary_max  \n",
       "0                              Compliance  Anywhere in Bangladesh       None  \n",
       "1                         Marketing/Sales                   Dhaka       None  \n",
       "2         Medical/Healthcare Professional                   Dhaka       None  \n",
       "3         Medical/Healthcare Professional                   Dhaka       None  \n",
       "4                          Top Management            Savar, Dhaka       None  \n",
       "..                                    ...                     ...        ...  \n",
       "145                                Others                    None   20010.00  \n",
       "146                           IT/Software                   Dhaka   26590.00  \n",
       "147               Data Entry/Operator/BPO                    None   24680.00  \n",
       "148              Admin/General Management                    None       None  \n",
       "149  Media/Advertisement/Event Management                    None       None  \n",
       "\n",
       "[150 rows x 5 columns]"
      ]
     },
     "execution_count": 6,
     "metadata": {},
     "output_type": "execute_result"
    }
   ],
   "source": [
    "df"
   ]
  },
  {
   "cell_type": "code",
   "execution_count": 11,
   "id": "b572f312-f64f-4cb0-8308-3c5da135ac28",
   "metadata": {},
   "outputs": [
    {
     "data": {
      "text/plain": [
       "{'name': 'Base IT',\n",
       " 'profile_picture': 'https://jobxprss-media-sg.s3.amazonaws.com/images/company_logo_DE9AF9.png',\n",
       " 'is_active': True}"
      ]
     },
     "execution_count": 11,
     "metadata": {},
     "output_type": "execute_result"
    }
   ],
   "source": [
    "df[\"company\"][6]"
   ]
  },
  {
   "cell_type": "code",
   "execution_count": 6,
   "id": "bf232ed6-2cbb-4dcd-8f9a-29f05ce7573c",
   "metadata": {},
   "outputs": [],
   "source": [
    "response = requests.get(urls[i])\n",
    "data = response.json()"
   ]
  },
  {
   "cell_type": "code",
   "execution_count": 13,
   "id": "9a7b899a-2a87-47cf-8968-4d545ab0fc56",
   "metadata": {},
   "outputs": [
    {
     "data": {
      "text/plain": [
       "{'job_id': '05eea814-681c-4364-9cb3-a5e25f074c7b',\n",
       " 'title': 'Sales Specialist (Corporate/Retail)',\n",
       " 'status': 'PUBLISHED',\n",
       " 'company': {'name': 'DNS Group',\n",
       "  'profile_picture': 'https://jobxprss-media-sg.s3.amazonaws.com/images/company_logo_94B7A4.png',\n",
       "  'is_active': False},\n",
       " 'job_category': 'Marketing/Sales',\n",
       " 'application_deadline': '2022-04-20',\n",
       " 'job_area': 'Anywhere in Bangladesh',\n",
       " 'job_city': None,\n",
       " 'job_country': None,\n",
       " 'job_site': 'ONSITE',\n",
       " 'job_nature': 'PARTTIME',\n",
       " 'job_type': 'CONTRACTUAL',\n",
       " 'address': 'Bangladesh',\n",
       " 'vacancy': 1,\n",
       " 'created_at': '2022-03-21T12:13:45.671236+06:00',\n",
       " 'post_date': None,\n",
       " 'publish_date': '2022-03-21T12:12:54+06:00',\n",
       " 'slug': 'sales-specialist-corporateretail-5f074c7b',\n",
       " 'applied_count': 0,\n",
       " 'favorite_count': 0,\n",
       " 'view_count': 0,\n",
       " 'salary': None,\n",
       " 'salary_min': None,\n",
       " 'salary_max': None,\n",
       " 'do_not_allow_apply_or_interested': False,\n",
       " 'do_not_allow_apply_or_interested_link': None}"
      ]
     },
     "execution_count": 13,
     "metadata": {},
     "output_type": "execute_result"
    }
   ],
   "source": [
    "data['results'][0]"
   ]
  },
  {
   "cell_type": "code",
   "execution_count": null,
   "id": "3241c9b6-ca3d-4910-8299-50511947002c",
   "metadata": {},
   "outputs": [],
   "source": []
  }
 ],
 "metadata": {
  "kernelspec": {
   "display_name": "Python 3",
   "language": "python",
   "name": "python3"
  },
  "language_info": {
   "codemirror_mode": {
    "name": "ipython",
    "version": 3
   },
   "file_extension": ".py",
   "mimetype": "text/x-python",
   "name": "python",
   "nbconvert_exporter": "python",
   "pygments_lexer": "ipython3",
   "version": "3.6.3"
  }
 },
 "nbformat": 4,
 "nbformat_minor": 5
}
